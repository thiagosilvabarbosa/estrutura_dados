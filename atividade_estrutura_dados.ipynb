{
  "nbformat": 4,
  "nbformat_minor": 0,
  "metadata": {
    "colab": {
      "provenance": [],
      "authorship_tag": "ABX9TyNLtkTk1EN4ql5eNDYWuSKA",
      "include_colab_link": true
    },
    "kernelspec": {
      "name": "python3",
      "display_name": "Python 3"
    },
    "language_info": {
      "name": "python"
    }
  },
  "cells": [
    {
      "cell_type": "markdown",
      "metadata": {
        "id": "view-in-github",
        "colab_type": "text"
      },
      "source": [
        "<a href=\"https://colab.research.google.com/github/thiagosilvabarbosa/estrutura_dados/blob/main/atividade_estrutura_dados.ipynb\" target=\"_parent\"><img src=\"https://colab.research.google.com/assets/colab-badge.svg\" alt=\"Open In Colab\"/></a>"
      ]
    },
    {
      "cell_type": "code",
      "source": [
        "numeros = [1,1,2,1,5,4]\n",
        "contador = 0\n",
        "for numero in numeros:\n",
        "  if numero == 1:\n",
        "    contador += 1\n",
        "print(contador)"
      ],
      "metadata": {
        "colab": {
          "base_uri": "https://localhost:8080/"
        },
        "id": "FPWVcnWHOWhk",
        "outputId": "be22c96d-e345-4761-aec6-3795022beb83"
      },
      "execution_count": null,
      "outputs": [
        {
          "output_type": "stream",
          "name": "stdout",
          "text": [
            "3\n"
          ]
        }
      ]
    },
    {
      "cell_type": "code",
      "source": [
        "numeros = [7,7,8,7,7]\n",
        "somanumeros = sum(numeros)/len(numeros)\n",
        "print(somanumeros)"
      ],
      "metadata": {
        "colab": {
          "base_uri": "https://localhost:8080/"
        },
        "id": "xOfe0r9wQI4p",
        "outputId": "f62717d3-5da0-4937-9fdd-170323367358"
      },
      "execution_count": null,
      "outputs": [
        {
          "output_type": "stream",
          "name": "stdout",
          "text": [
            "7.2\n"
          ]
        }
      ]
    },
    {
      "cell_type": "code",
      "source": [
        "numeros = [2,5,50,9]\n",
        "maior = max(numeros)\n",
        "menor = min(numeros)\n",
        "print(f\"maior numero = {maior}\\nmenor numero = {menor}\")"
      ],
      "metadata": {
        "colab": {
          "base_uri": "https://localhost:8080/"
        },
        "id": "9V_GG3wQQ5BL",
        "outputId": "77cd7def-fa17-4f07-df40-eea3dd6adf03"
      },
      "execution_count": null,
      "outputs": [
        {
          "output_type": "stream",
          "name": "stdout",
          "text": [
            "maior numero = 50\n",
            "menor numero = 2\n"
          ]
        }
      ]
    },
    {
      "cell_type": "code",
      "source": [
        "numeros = [1,2,3,4,5,6]\n",
        "pares = []\n",
        "for numero in numeros:\n",
        "  if numero % 2 == 0:\n",
        "    pares.append(numero)\n",
        "\n",
        "print(pares)"
      ],
      "metadata": {
        "colab": {
          "base_uri": "https://localhost:8080/"
        },
        "id": "N8waAnK4RjCd",
        "outputId": "daf45eed-3249-49b5-a83b-27a54b823895"
      },
      "execution_count": null,
      "outputs": [
        {
          "output_type": "stream",
          "name": "stdout",
          "text": [
            "[2, 4, 6]\n"
          ]
        }
      ]
    },
    {
      "cell_type": "code",
      "source": [
        "lista1 = input(\"insira numeros da lista 1: \").split()\n",
        "lista2 = input(\"insira numeros da lista 2: \").split()\n",
        "for i in range (len(lista1)):\n",
        "  lista1[i] = int(lista1[i])\n",
        "\n",
        "for i in range (len(lista2)):\n",
        "  lista2[i] = int(lista2[i])\n",
        "\n",
        "\n",
        "lista3 = lista1 + lista2\n",
        "lista3.sort()\n",
        "print(lista3)"
      ],
      "metadata": {
        "colab": {
          "base_uri": "https://localhost:8080/"
        },
        "id": "TnJdE-GQSAKg",
        "outputId": "3a509ebf-8930-4982-a837-1bc0457f151a"
      },
      "execution_count": null,
      "outputs": [
        {
          "output_type": "stream",
          "name": "stdout",
          "text": [
            "insira numeros da lista 1: 1 4 5 1 1\n",
            "insira numeros da lista 2: 9 8 5 1\n",
            "[1, 1, 1, 1, 4, 5, 5, 8, 9]\n"
          ]
        }
      ]
    }
  ]
}